{
 "cells": [
  {
   "cell_type": "markdown",
   "metadata": {},
   "source": [
    "# NumPy Practice\n",
    "\n",
    "This notebook offers a set of excercises for different tasks with NumPy.\n",
    "\n",
    "It should be noted there may be more than one different way to do below codes.\n",
    "\n",
    "Exercises are based off (and directly taken from) the quick introduction to NumPy notebook.\n",
    "\n",
    "Different tasks will be detailed by comments or text.\n",
    "\n",
    "For further reference and resources, it's advised to check out the [NumPy documentation](https://numpy.org/devdocs/user/index.html).\n",
    "\n",
    "And if you get stuck, try searching for a question in the following format: \"how to do XYZ with numpy\", where XYZ is the function you want to leverage from NumPy."
   ]
  },
  {
   "cell_type": "code",
   "execution_count": 1,
   "metadata": {},
   "outputs": [],
   "source": [
    "# Import NumPy as its abbreviation 'np'\n",
    "import numpy as np"
   ]
  },
  {
   "cell_type": "code",
   "execution_count": 3,
   "metadata": {},
   "outputs": [],
   "source": [
    "# Create a 1-dimensional NumPy array using np.array()\n",
    "\n",
    "a1=np.array([1,2,3])\n",
    "# Create a 2-dimensional NumPy array using np.array()\n",
    "a2=np.array([[1,2,3],[4,5,6]])\n",
    "\n",
    "# Create a 3-dimensional Numpy array using np.array()\n",
    "a3=np.array([[[1,2,3],[4,5,6],[7,8,9]]])"
   ]
  },
  {
   "cell_type": "markdown",
   "metadata": {},
   "source": [
    "Now we've you've created 3 different arrays, let's find details about them.\n",
    "\n",
    "Find the shape, number of dimensions, data type, size and type of each array."
   ]
  },
  {
   "cell_type": "code",
   "execution_count": 3,
   "metadata": {},
   "outputs": [
    {
     "name": "stdout",
     "output_type": "stream",
     "text": [
      "[1 2 3]\n"
     ]
    },
    {
     "data": {
      "text/plain": [
       "((3,), 1, dtype('int32'), 3, numpy.ndarray)"
      ]
     },
     "execution_count": 3,
     "metadata": {},
     "output_type": "execute_result"
    }
   ],
   "source": [
    "# Attributes of 1-dimensional array (shape, \n",
    "# number of dimensions, data type, size and type)\n",
    "print(a1)\n",
    "a1.shape , a1.ndim , a1.dtype , a1.size ,type(a1)"
   ]
  },
  {
   "cell_type": "code",
   "execution_count": 4,
   "metadata": {},
   "outputs": [
    {
     "name": "stdout",
     "output_type": "stream",
     "text": [
      "[[1 2 3]\n",
      " [4 5 6]]\n"
     ]
    },
    {
     "data": {
      "text/plain": [
       "((2, 3), 6, 2, dtype('int32'), numpy.ndarray)"
      ]
     },
     "execution_count": 4,
     "metadata": {},
     "output_type": "execute_result"
    }
   ],
   "source": [
    "# Attributes of 2-dimensional array\n",
    "print(a2)\n",
    "a2.shape, a2.size , a2.ndim , a2.dtype ,type(a2)"
   ]
  },
  {
   "cell_type": "code",
   "execution_count": 5,
   "metadata": {},
   "outputs": [
    {
     "name": "stdout",
     "output_type": "stream",
     "text": [
      "[[[1 2 3]\n",
      "  [4 5 6]\n",
      "  [7 8 9]]]\n"
     ]
    },
    {
     "data": {
      "text/plain": [
       "((1, 3, 3), 3, dtype('int32'), numpy.ndarray, 9)"
      ]
     },
     "execution_count": 5,
     "metadata": {},
     "output_type": "execute_result"
    }
   ],
   "source": [
    "# Attributes of 3-dimensional array\n",
    "print(a3)\n",
    "a3.shape,a3.ndim,a3.dtype,type(a3),a3.size"
   ]
  },
  {
   "cell_type": "code",
   "execution_count": 17,
   "metadata": {},
   "outputs": [
    {
     "data": {
      "text/html": [
       "<div>\n",
       "<style scoped>\n",
       "    .dataframe tbody tr th:only-of-type {\n",
       "        vertical-align: middle;\n",
       "    }\n",
       "\n",
       "    .dataframe tbody tr th {\n",
       "        vertical-align: top;\n",
       "    }\n",
       "\n",
       "    .dataframe thead th {\n",
       "        text-align: right;\n",
       "    }\n",
       "</style>\n",
       "<table border=\"1\" class=\"dataframe\">\n",
       "  <thead>\n",
       "    <tr style=\"text-align: right;\">\n",
       "      <th></th>\n",
       "      <th>Numbers</th>\n",
       "    </tr>\n",
       "  </thead>\n",
       "  <tbody>\n",
       "    <tr>\n",
       "      <th>Row A</th>\n",
       "      <td>1</td>\n",
       "    </tr>\n",
       "    <tr>\n",
       "      <th>Row B</th>\n",
       "      <td>2</td>\n",
       "    </tr>\n",
       "    <tr>\n",
       "      <th>Row C</th>\n",
       "      <td>3</td>\n",
       "    </tr>\n",
       "  </tbody>\n",
       "</table>\n",
       "</div>"
      ],
      "text/plain": [
       "       Numbers\n",
       "Row A        1\n",
       "Row B        2\n",
       "Row C        3"
      ]
     },
     "execution_count": 17,
     "metadata": {},
     "output_type": "execute_result"
    }
   ],
   "source": [
    "# Import pandas and create a DataFrame out of one\n",
    "# of the arrays you've created\n",
    "import pandas as pd\n",
    "ar1_df=pd.DataFrame(a1,index=('Row A','Row B','Row C'),columns=['Numbers'])\n",
    "ar1_df"
   ]
  },
  {
   "cell_type": "code",
   "execution_count": 23,
   "metadata": {},
   "outputs": [
    {
     "name": "stdout",
     "output_type": "stream",
     "text": [
      "[[1 1]\n",
      " [1 1]\n",
      " [1 1]\n",
      " [1 1]\n",
      " [1 1]\n",
      " [1 1]\n",
      " [1 1]\n",
      " [1 1]\n",
      " [1 1]\n",
      " [1 1]]\n",
      "shape of this array --> (10, 2)\n",
      "size of this array --> 20\n",
      "data type of this array--> int32\n",
      "which type of data it belongs to--> <class 'numpy.ndarray'>\n",
      "array with dimension --> 2\n"
     ]
    }
   ],
   "source": [
    "# Create an array of shape (10, 2) with only ones\n",
    "arr_shp_10_2=np.ones((10,2)).astype(int) # i converted this to int type , otherwise it will return float type value by-default\n",
    "print(arr_shp_10_2)\n",
    "print(\"shape of this array -->\",arr_shp_10_2.shape)\n",
    "print(\"size of this array -->\", arr_shp_10_2.size)\n",
    "print(\"data type of this array-->\",arr_shp_10_2.dtype)\n",
    "print(\"which type of data it belongs to-->\",type(arr_shp_10_2))\n",
    "print(\"array with dimension -->\",arr_shp_10_2.ndim)"
   ]
  },
  {
   "cell_type": "code",
   "execution_count": 26,
   "metadata": {},
   "outputs": [
    {
     "name": "stdout",
     "output_type": "stream",
     "text": [
      "[[[0. 0. 0.]\n",
      "  [0. 0. 0.]]\n",
      "\n",
      " [[0. 0. 0.]\n",
      "  [0. 0. 0.]]\n",
      "\n",
      " [[0. 0. 0.]\n",
      "  [0. 0. 0.]]\n",
      "\n",
      " [[0. 0. 0.]\n",
      "  [0. 0. 0.]]\n",
      "\n",
      " [[0. 0. 0.]\n",
      "  [0. 0. 0.]]\n",
      "\n",
      " [[0. 0. 0.]\n",
      "  [0. 0. 0.]]\n",
      "\n",
      " [[0. 0. 0.]\n",
      "  [0. 0. 0.]]]\n",
      "shape of this array --> (7, 2, 3)\n",
      "size of this array --> 42\n",
      "data type of this array--> float64\n",
      "which type of data it belongs to--> <class 'numpy.ndarray'>\n",
      "array with dimension --> 3\n"
     ]
    }
   ],
   "source": [
    "# Create an array of shape (7, 2, 3) of only zeros\n",
    "zero_array_shp_7_2_3=np.zeros((7,2,3))\n",
    "print(zero_array_shp_7_2_3)\n",
    "print(\"shape of this array -->\",zero_array_shp_7_2_3.shape)\n",
    "print(\"size of this array -->\", zero_array_shp_7_2_3.size)\n",
    "print(\"data type of this array-->\",zero_array_shp_7_2_3.dtype)\n",
    "print(\"which type of data it belongs to-->\",type(zero_array_shp_7_2_3))\n",
    "print(\"array with dimension -->\",zero_array_shp_7_2_3.ndim)"
   ]
  },
  {
   "cell_type": "code",
   "execution_count": 30,
   "metadata": {},
   "outputs": [
    {
     "data": {
      "text/plain": [
       "array([ 0,  3,  6,  9, 12, 15, 18, 21, 24, 27, 30, 33, 36, 39, 42, 45, 48,\n",
       "       51, 54, 57, 60, 63, 66, 69, 72, 75, 78, 81, 84, 87, 90, 93, 96, 99])"
      ]
     },
     "execution_count": 30,
     "metadata": {},
     "output_type": "execute_result"
    }
   ],
   "source": [
    "# Create an array within a range of 0 and 100 with step 3\n",
    "arr_range_0to100=np.arange(0,100,3)\n",
    "arr_range_0to100"
   ]
  },
  {
   "cell_type": "code",
   "execution_count": 32,
   "metadata": {},
   "outputs": [
    {
     "data": {
      "text/plain": [
       "array([[5, 4],\n",
       "       [8, 5],\n",
       "       [6, 8],\n",
       "       [2, 5],\n",
       "       [1, 2],\n",
       "       [6, 0],\n",
       "       [4, 1]])"
      ]
     },
     "execution_count": 32,
     "metadata": {},
     "output_type": "execute_result"
    }
   ],
   "source": [
    "# Create a random array with numbers between 0 and 10 of size (7, 2)\n",
    "arr_random_range_0to10=np.random.randint(0,10,size=(7,2))\n",
    "arr_random_range_0to10"
   ]
  },
  {
   "cell_type": "code",
   "execution_count": 36,
   "metadata": {},
   "outputs": [
    {
     "data": {
      "text/plain": [
       "array([[0.0392526 , 0.29556609, 0.53099203, 0.86457894, 0.7892075 ],\n",
       "       [0.03482757, 0.05101619, 0.29804548, 0.66236191, 0.42317744],\n",
       "       [0.49740694, 0.43473283, 0.03864768, 0.59784471, 0.26934428]])"
      ]
     },
     "execution_count": 36,
     "metadata": {},
     "output_type": "execute_result"
    }
   ],
   "source": [
    "# Create a random array of floats between 0 & 1 of shape (3, 5)\n",
    "arr_random_range_0to1=np.random.random((3,5))\n",
    "arr_random_range_0to1"
   ]
  },
  {
   "cell_type": "code",
   "execution_count": 41,
   "metadata": {},
   "outputs": [
    {
     "data": {
      "text/plain": [
       "array([[6, 3, 7, 4, 6, 9],\n",
       "       [2, 6, 7, 4, 3, 7],\n",
       "       [7, 2, 5, 4, 1, 7],\n",
       "       [5, 1, 4, 0, 9, 5]])"
      ]
     },
     "execution_count": 41,
     "metadata": {},
     "output_type": "execute_result"
    }
   ],
   "source": [
    "# Set the random seed to 42\n",
    "np.random.seed(42)\n",
    "\n",
    "# Create a random array of numbers between 0 & 10 of size (4, 6)\n",
    "arr_random_seed=np.random.randint(0,10,size=(4,6))\n",
    "arr_random_seed"
   ]
  },
  {
   "cell_type": "markdown",
   "metadata": {},
   "source": [
    "Run the cell above again, what happens?\n",
    "\n",
    "Are the numbers in the array different or the same? Why do think this is?"
   ]
  },
  {
   "cell_type": "code",
   "execution_count": 46,
   "metadata": {},
   "outputs": [
    {
     "name": "stdout",
     "output_type": "stream",
     "text": [
      "[[9 7 9 8 2 1 7]\n",
      " [7 8 5 3 8 6 3]\n",
      " [1 3 5 3 1 5 7]]\n"
     ]
    },
    {
     "data": {
      "text/plain": [
       "array([1, 2, 3, 5, 6, 7, 8, 9])"
      ]
     },
     "execution_count": 46,
     "metadata": {},
     "output_type": "execute_result"
    }
   ],
   "source": [
    "# Create an array of random numbers between 1 & 10 of size (3, 7)\n",
    "# and save it to a variable\n",
    "arr_random_range_0to10=np.random.randint(1,10,size=(3,7))\n",
    "print(arr_random_range_0to10)\n",
    "\n",
    "# Find the unique numbers in the array you just created\n",
    "np.unique(arr_random_range_0to10)"
   ]
  },
  {
   "cell_type": "code",
   "execution_count": 57,
   "metadata": {},
   "outputs": [
    {
     "data": {
      "text/plain": [
       "array([9, 7, 9, 8, 2, 1, 7])"
      ]
     },
     "execution_count": 57,
     "metadata": {},
     "output_type": "execute_result"
    }
   ],
   "source": [
    "# Find the 0'th index of the latest array you created\n",
    "arr_random_range_0to10[0]"
   ]
  },
  {
   "cell_type": "code",
   "execution_count": 58,
   "metadata": {},
   "outputs": [
    {
     "data": {
      "text/plain": [
       "array([[9, 7, 9, 8, 2, 1, 7],\n",
       "       [7, 8, 5, 3, 8, 6, 3]])"
      ]
     },
     "execution_count": 58,
     "metadata": {},
     "output_type": "execute_result"
    }
   ],
   "source": [
    "# Get the first 2 rows of latest array you created\n",
    "arr_random_range_0to10[0:2]"
   ]
  },
  {
   "cell_type": "code",
   "execution_count": 59,
   "metadata": {},
   "outputs": [
    {
     "data": {
      "text/plain": [
       "array([[9, 7],\n",
       "       [7, 8],\n",
       "       [1, 3]])"
      ]
     },
     "execution_count": 59,
     "metadata": {},
     "output_type": "execute_result"
    }
   ],
   "source": [
    "# Get the first 2 columns of latest array you created\n",
    "arr_random_range_0to10[:,0:2]"
   ]
  },
  {
   "cell_type": "code",
   "execution_count": 60,
   "metadata": {},
   "outputs": [
    {
     "data": {
      "text/plain": [
       "array([[9, 7],\n",
       "       [7, 8]])"
      ]
     },
     "execution_count": 60,
     "metadata": {},
     "output_type": "execute_result"
    }
   ],
   "source": [
    "# Get the first 2 values of the first 2 rows of the latest array\n",
    "arr_random_range_0to10[0:2,0:2]"
   ]
  },
  {
   "cell_type": "code",
   "execution_count": 72,
   "metadata": {},
   "outputs": [
    {
     "name": "stdout",
     "output_type": "stream",
     "text": [
      "[[5 8 9 5 0]\n",
      " [0 1 7 6 9]\n",
      " [2 4 5 2 4]]\n",
      "\n",
      "[[1. 1. 1. 1. 1.]\n",
      " [1. 1. 1. 1. 1.]\n",
      " [1. 1. 1. 1. 1.]]\n"
     ]
    }
   ],
   "source": [
    "# Create a random array of numbers between 0 & 10 and an array of ones\n",
    "# both of size (3, 5), save them both to variables\n",
    "np.random.seed(1)\n",
    "arr_random_range_0to10=np.random.randint(0,10,size=(3,5))\n",
    "arr_ones=np.ones((3,5))\n",
    "print(arr_random_range_0to10)\n",
    "print(\"\")\n",
    "print(arr_ones)"
   ]
  },
  {
   "cell_type": "code",
   "execution_count": 79,
   "metadata": {},
   "outputs": [
    {
     "name": "stdout",
     "output_type": "stream",
     "text": [
      "[1 2 3]\n",
      "\n",
      "[[1 2 3]\n",
      " [4 5 6]]\n",
      "\n",
      "sum of both array is\n"
     ]
    },
    {
     "data": {
      "text/plain": [
       "array([[2, 4, 6],\n",
       "       [5, 7, 9]])"
      ]
     },
     "execution_count": 79,
     "metadata": {},
     "output_type": "execute_result"
    }
   ],
   "source": [
    "# Add the two arrays together\n",
    "print(a1)\n",
    "print(\"\")\n",
    "print(a2)\n",
    "\n",
    "print(\"\")\n",
    "print(\"sum of both array is\")\n",
    "a1+a2"
   ]
  },
  {
   "cell_type": "code",
   "execution_count": 80,
   "metadata": {},
   "outputs": [
    {
     "data": {
      "text/plain": [
       "array([[1., 1., 1.],\n",
       "       [1., 1., 1.],\n",
       "       [1., 1., 1.],\n",
       "       [1., 1., 1.],\n",
       "       [1., 1., 1.]])"
      ]
     },
     "execution_count": 80,
     "metadata": {},
     "output_type": "execute_result"
    }
   ],
   "source": [
    "# Create another array of ones of shape (5, 3)\n",
    "arr_ones_shp_5_3=np.ones((5,3))\n",
    "arr_ones_shp_5_3"
   ]
  },
  {
   "cell_type": "code",
   "execution_count": 86,
   "metadata": {
    "scrolled": true
   },
   "outputs": [
    {
     "name": "stdout",
     "output_type": "stream",
     "text": [
      "[[1. 1. 1. 1. 1.]\n",
      " [1. 1. 1. 1. 1.]\n",
      " [1. 1. 1. 1. 1.]]\n",
      "\n",
      "[[1. 1. 1.]\n",
      " [1. 1. 1.]\n",
      " [1. 1. 1.]\n",
      " [1. 1. 1.]\n",
      " [1. 1. 1.]]\n",
      "\n",
      "shape of first array is  (3, 5)\n",
      "shape of 2nd array is (5, 3)\n",
      "\n",
      "if we try to add both the array it will throw an error\n",
      "lets try and first see the eroor and then try to resolve it\n"
     ]
    },
    {
     "ename": "ValueError",
     "evalue": "operands could not be broadcast together with shapes (3,5) (5,3) ",
     "output_type": "error",
     "traceback": [
      "\u001b[1;31m---------------------------------------------------------------------------\u001b[0m",
      "\u001b[1;31mValueError\u001b[0m                                Traceback (most recent call last)",
      "\u001b[1;32m<ipython-input-86-29dcc79fe9a8>\u001b[0m in \u001b[0;36m<module>\u001b[1;34m\u001b[0m\n\u001b[0;32m      9\u001b[0m \u001b[0mprint\u001b[0m\u001b[1;33m(\u001b[0m\u001b[1;34m\"if we try to add both the array it will throw an error\"\u001b[0m\u001b[1;33m)\u001b[0m\u001b[1;33m\u001b[0m\u001b[1;33m\u001b[0m\u001b[0m\n\u001b[0;32m     10\u001b[0m \u001b[0mprint\u001b[0m\u001b[1;33m(\u001b[0m\u001b[1;34m\"lets try and first see the eroor and then try to resolve it\"\u001b[0m\u001b[1;33m)\u001b[0m\u001b[1;33m\u001b[0m\u001b[1;33m\u001b[0m\u001b[0m\n\u001b[1;32m---> 11\u001b[1;33m \u001b[0marr_ones\u001b[0m\u001b[1;33m+\u001b[0m\u001b[0marr_ones_shp_5_3\u001b[0m\u001b[1;33m\u001b[0m\u001b[1;33m\u001b[0m\u001b[0m\n\u001b[0m",
      "\u001b[1;31mValueError\u001b[0m: operands could not be broadcast together with shapes (3,5) (5,3) "
     ]
    }
   ],
   "source": [
    "# Try add the array of ones and the other most recent array together\n",
    "print(arr_ones)\n",
    "print(\"\")\n",
    "print(arr_ones_shp_5_3)\n",
    "print(\"\")\n",
    "print(\"shape of first array is \",arr_ones.shape)\n",
    "print(\"shape of 2nd array is\",arr_ones_shp_5_3.shape)\n",
    "print(\"\")\n",
    "print(\"if we try to add both the array it will throw an error\")\n",
    "print(\"lets try and first see the eroor and then try to resolve it\")\n",
    "arr_ones+arr_ones_shp_5_3"
   ]
  },
  {
   "cell_type": "markdown",
   "metadata": {},
   "source": [
    "When you try the last cell, it produces an error. Why do think this is?\n",
    "\n",
    "How would you fix it?"
   ]
  },
  {
   "cell_type": "code",
   "execution_count": 88,
   "metadata": {},
   "outputs": [
    {
     "name": "stdout",
     "output_type": "stream",
     "text": [
      "as in above error it shows the error of broadcast, it simply means that there is shape miss-match\n",
      "\"When operating on two arrays, NumPy compares their shapes element-wise.\n",
      "      It starts with the trailing dimensions and works its way forward. Two dimensions are compatible when\n",
      "\n",
      "they are equal, or\n",
      "\n",
      "one of them is 1\n",
      "so, here we make them of equal shape using transpose\n",
      "[[2. 2. 2. 2. 2.]\n",
      " [2. 2. 2. 2. 2.]\n",
      " [2. 2. 2. 2. 2.]]\n",
      "or\n",
      "[[2. 2. 2.]\n",
      " [2. 2. 2.]\n",
      " [2. 2. 2.]\n",
      " [2. 2. 2.]\n",
      " [2. 2. 2.]]\n"
     ]
    }
   ],
   "source": [
    "print(\"as in above error it shows the error of broadcast, it simply means that there is shape miss-match\")\n",
    "print(\"\"\"\"When operating on two arrays, NumPy compares their shapes element-wise.\n",
    "      It starts with the trailing dimensions and works its way forward. Two dimensions are compatible when\n",
    "\n",
    "they are equal, or\n",
    "\n",
    "one of them is 1\"\"\")\n",
    "\n",
    "print(\"so, here we make them of equal shape using transpose\")\n",
    "print(arr_ones+arr_ones_shp_5_3.T) # here we transpose its 2nd array \n",
    "print(\"or\")\n",
    "print(arr_ones.T+arr_ones_shp_5_3)# here we transpose first array"
   ]
  },
  {
   "cell_type": "code",
   "execution_count": 91,
   "metadata": {},
   "outputs": [
    {
     "data": {
      "text/plain": [
       "array([[1., 1., 1., 1., 1.],\n",
       "       [1., 1., 1., 1., 1.],\n",
       "       [1., 1., 1., 1., 1.]])"
      ]
     },
     "execution_count": 91,
     "metadata": {},
     "output_type": "execute_result"
    }
   ],
   "source": [
    "# Create another array of ones of shape (3, 5)\n",
    "arr_ones_new=arr_ones\n",
    "arr_ones_new"
   ]
  },
  {
   "cell_type": "code",
   "execution_count": 98,
   "metadata": {},
   "outputs": [
    {
     "data": {
      "text/plain": [
       "array([[-1., -1., -1., -1., -1.],\n",
       "       [-1., -1., -1., -1., -1.],\n",
       "       [-1., -1., -1., -1., -1.]])"
      ]
     },
     "execution_count": 98,
     "metadata": {},
     "output_type": "execute_result"
    }
   ],
   "source": [
    "# Subtract the new array of ones from the other most recent array\n",
    "s=arr_ones+arr_ones_shp_5_3.T\n",
    "arr_ones_new-s"
   ]
  },
  {
   "cell_type": "code",
   "execution_count": 101,
   "metadata": {},
   "outputs": [
    {
     "data": {
      "text/plain": [
       "array([[2., 2., 2., 2., 2.],\n",
       "       [2., 2., 2., 2., 2.],\n",
       "       [2., 2., 2., 2., 2.]])"
      ]
     },
     "execution_count": 101,
     "metadata": {},
     "output_type": "execute_result"
    }
   ],
   "source": [
    "# Multiply the ones array with the latest array\n",
    "arr_multiplied=arr_ones_new*s\n",
    "arr_multiplied"
   ]
  },
  {
   "cell_type": "code",
   "execution_count": 102,
   "metadata": {},
   "outputs": [
    {
     "data": {
      "text/plain": [
       "array([[4., 4., 4., 4., 4.],\n",
       "       [4., 4., 4., 4., 4.],\n",
       "       [4., 4., 4., 4., 4.]])"
      ]
     },
     "execution_count": 102,
     "metadata": {},
     "output_type": "execute_result"
    }
   ],
   "source": [
    "# Take the latest array to the power of 2 using '**'\n",
    "arr_multiplied**2"
   ]
  },
  {
   "cell_type": "code",
   "execution_count": 103,
   "metadata": {},
   "outputs": [
    {
     "data": {
      "text/plain": [
       "array([[4., 4., 4., 4., 4.],\n",
       "       [4., 4., 4., 4., 4.],\n",
       "       [4., 4., 4., 4., 4.]])"
      ]
     },
     "execution_count": 103,
     "metadata": {},
     "output_type": "execute_result"
    }
   ],
   "source": [
    "# Do the same thing with np.square()\n",
    "np.square(arr_multiplied)"
   ]
  },
  {
   "cell_type": "code",
   "execution_count": 106,
   "metadata": {},
   "outputs": [
    {
     "name": "stdout",
     "output_type": "stream",
     "text": [
      "[[2. 2. 2. 2. 2.]\n",
      " [2. 2. 2. 2. 2.]\n",
      " [2. 2. 2. 2. 2.]]\n"
     ]
    },
    {
     "data": {
      "text/plain": [
       "2.0"
      ]
     },
     "execution_count": 106,
     "metadata": {},
     "output_type": "execute_result"
    }
   ],
   "source": [
    "# Find the mean of the latest array using np.mean()\n",
    "print(arr_multiplied)\n",
    "np.mean(arr_multiplied)\n"
   ]
  },
  {
   "cell_type": "code",
   "execution_count": 109,
   "metadata": {},
   "outputs": [
    {
     "name": "stdout",
     "output_type": "stream",
     "text": [
      "[[5 8 9 5 0]\n",
      " [0 1 7 6 9]\n",
      " [2 4 5 2 4]]\n"
     ]
    },
    {
     "data": {
      "text/plain": [
       "9"
      ]
     },
     "execution_count": 109,
     "metadata": {},
     "output_type": "execute_result"
    }
   ],
   "source": [
    "# Find the maximum of the latest array using np.max()\n",
    "print(arr_random_range_0to10)\n",
    "np.max(arr_random_range_0to10)"
   ]
  },
  {
   "cell_type": "code",
   "execution_count": 110,
   "metadata": {},
   "outputs": [
    {
     "name": "stdout",
     "output_type": "stream",
     "text": [
      "[[5 8 9 5 0]\n",
      " [0 1 7 6 9]\n",
      " [2 4 5 2 4]]\n"
     ]
    },
    {
     "data": {
      "text/plain": [
       "0"
      ]
     },
     "execution_count": 110,
     "metadata": {},
     "output_type": "execute_result"
    }
   ],
   "source": [
    "# Find the minimum of the latest array using np.min()\n",
    "print(arr_random_range_0to10)\n",
    "np.min(arr_random_range_0to10)"
   ]
  },
  {
   "cell_type": "code",
   "execution_count": 111,
   "metadata": {},
   "outputs": [
    {
     "name": "stdout",
     "output_type": "stream",
     "text": [
      "[[5 8 9 5 0]\n",
      " [0 1 7 6 9]\n",
      " [2 4 5 2 4]]\n"
     ]
    },
    {
     "data": {
      "text/plain": [
       "2.9181424837652385"
      ]
     },
     "execution_count": 111,
     "metadata": {},
     "output_type": "execute_result"
    }
   ],
   "source": [
    "# Find the standard deviation of the latest array\n",
    "print(arr_random_range_0to10)\n",
    "np.std(arr_random_range_0to10)"
   ]
  },
  {
   "cell_type": "code",
   "execution_count": 112,
   "metadata": {},
   "outputs": [
    {
     "name": "stdout",
     "output_type": "stream",
     "text": [
      "[[5 8 9 5 0]\n",
      " [0 1 7 6 9]\n",
      " [2 4 5 2 4]]\n"
     ]
    },
    {
     "data": {
      "text/plain": [
       "8.515555555555556"
      ]
     },
     "execution_count": 112,
     "metadata": {},
     "output_type": "execute_result"
    }
   ],
   "source": [
    "# Find the variance of the latest array\n",
    "print(arr_random_range_0to10)\n",
    "np.var(arr_random_range_0to10)"
   ]
  },
  {
   "cell_type": "code",
   "execution_count": 115,
   "metadata": {},
   "outputs": [
    {
     "data": {
      "text/plain": [
       "array([[[5],\n",
       "        [8],\n",
       "        [9],\n",
       "        [5],\n",
       "        [0]],\n",
       "\n",
       "       [[0],\n",
       "        [1],\n",
       "        [7],\n",
       "        [6],\n",
       "        [9]],\n",
       "\n",
       "       [[2],\n",
       "        [4],\n",
       "        [5],\n",
       "        [2],\n",
       "        [4]]])"
      ]
     },
     "execution_count": 115,
     "metadata": {},
     "output_type": "execute_result"
    }
   ],
   "source": [
    "# Reshape the latest array to (3, 5, 1)\n",
    "arr_random_range_0to10.reshape((3,5,1))\n"
   ]
  },
  {
   "cell_type": "code",
   "execution_count": 116,
   "metadata": {},
   "outputs": [
    {
     "data": {
      "text/plain": [
       "array([[5, 0, 2],\n",
       "       [8, 1, 4],\n",
       "       [9, 7, 5],\n",
       "       [5, 6, 2],\n",
       "       [0, 9, 4]])"
      ]
     },
     "execution_count": 116,
     "metadata": {},
     "output_type": "execute_result"
    }
   ],
   "source": [
    "# Transpose the latest array\n",
    "arr_random_range_0to10.T"
   ]
  },
  {
   "cell_type": "markdown",
   "metadata": {},
   "source": [
    "What does the transpose do?"
   ]
  },
  {
   "cell_type": "code",
   "execution_count": 118,
   "metadata": {},
   "outputs": [
    {
     "name": "stdout",
     "output_type": "stream",
     "text": [
      "[[0 1 8]\n",
      " [8 3 9]\n",
      " [8 7 3]]\n",
      "\n",
      "[[6 5]\n",
      " [1 9]\n",
      " [3 4]]\n"
     ]
    }
   ],
   "source": [
    "# Create two arrays of random integers between 0 to 10\n",
    "# one of size (3, 3) the other of size (3, 2)\n",
    "arr_3_3=np.random.randint(0,10,size=(3,3))\n",
    "arr_3_2=np.random.randint(0,10,size=(3,2))\n",
    "print(arr_3_3)\n",
    "print(\"\")\n",
    "print(arr_3_2)"
   ]
  },
  {
   "cell_type": "code",
   "execution_count": 119,
   "metadata": {},
   "outputs": [
    {
     "data": {
      "text/plain": [
       "array([[ 25,  41],\n",
       "       [ 78, 103],\n",
       "       [ 64, 115]])"
      ]
     },
     "execution_count": 119,
     "metadata": {},
     "output_type": "execute_result"
    }
   ],
   "source": [
    "# Perform a dot product on the two newest arrays you created\n",
    "np.dot(arr_3_3,arr_3_2)\n",
    "\n"
   ]
  },
  {
   "cell_type": "code",
   "execution_count": 122,
   "metadata": {},
   "outputs": [
    {
     "data": {
      "text/plain": [
       "array([[ 32,  30,  66],\n",
       "       [104,  60, 133]])"
      ]
     },
     "execution_count": 122,
     "metadata": {},
     "output_type": "execute_result"
    }
   ],
   "source": [
    "np.dot(arr_3_2.T,arr_3_3)"
   ]
  },
  {
   "cell_type": "code",
   "execution_count": 125,
   "metadata": {},
   "outputs": [
    {
     "name": "stdout",
     "output_type": "stream",
     "text": [
      "[[5 8 9]\n",
      " [5 0 0]\n",
      " [1 7 6]\n",
      " [9 2 4]]\n",
      "\n",
      "[[5 2 4]\n",
      " [2 4 7]\n",
      " [7 9 1]\n",
      " [7 0 6]]\n"
     ]
    }
   ],
   "source": [
    "# Create two arrays of random integers between 0 to 10\n",
    "# both of size (4, 3)\n",
    "np.random.seed(1)\n",
    "a_random_1=np.random.randint(0,10,size=(4,3))\n",
    "a_random_2=np.random.randint(0,10,size=(4,3))\n",
    "print(a_random_1)\n",
    "print(\"\")\n",
    "print(a_random_2)"
   ]
  },
  {
   "cell_type": "code",
   "execution_count": 129,
   "metadata": {},
   "outputs": [
    {
     "ename": "ValueError",
     "evalue": "shapes (4,3) and (4,3) not aligned: 3 (dim 1) != 4 (dim 0)",
     "output_type": "error",
     "traceback": [
      "\u001b[1;31m---------------------------------------------------------------------------\u001b[0m",
      "\u001b[1;31mValueError\u001b[0m                                Traceback (most recent call last)",
      "\u001b[1;32m<ipython-input-129-ad5f4032bd69>\u001b[0m in \u001b[0;36m<module>\u001b[1;34m\u001b[0m\n\u001b[0;32m      1\u001b[0m \u001b[1;31m# Perform a dot product on the two newest arrays you created\u001b[0m\u001b[1;33m\u001b[0m\u001b[1;33m\u001b[0m\u001b[1;33m\u001b[0m\u001b[0m\n\u001b[1;32m----> 2\u001b[1;33m \u001b[0mnp\u001b[0m\u001b[1;33m.\u001b[0m\u001b[0mdot\u001b[0m\u001b[1;33m(\u001b[0m\u001b[0ma_random_1\u001b[0m\u001b[1;33m,\u001b[0m\u001b[0ma_random_2\u001b[0m\u001b[1;33m)\u001b[0m\u001b[1;33m\u001b[0m\u001b[1;33m\u001b[0m\u001b[0m\n\u001b[0m",
      "\u001b[1;32m<__array_function__ internals>\u001b[0m in \u001b[0;36mdot\u001b[1;34m(*args, **kwargs)\u001b[0m\n",
      "\u001b[1;31mValueError\u001b[0m: shapes (4,3) and (4,3) not aligned: 3 (dim 1) != 4 (dim 0)"
     ]
    }
   ],
   "source": [
    "# Perform a dot product on the two newest arrays you created\n",
    "np.dot(a_random_1,a_random_2)"
   ]
  },
  {
   "cell_type": "markdown",
   "metadata": {},
   "source": [
    "It doesn't work. How would you fix it?"
   ]
  },
  {
   "cell_type": "code",
   "execution_count": 130,
   "metadata": {},
   "outputs": [
    {
     "data": {
      "text/plain": [
       "array([[ 77, 105, 116,  89],\n",
       "       [ 25,  10,  35,  35],\n",
       "       [ 43,  72,  76,  43],\n",
       "       [ 65,  54,  85,  87]])"
      ]
     },
     "execution_count": 130,
     "metadata": {},
     "output_type": "execute_result"
    }
   ],
   "source": [
    "# Take the latest two arrays, perform a transpose on one of them and then perform \n",
    "# a dot product on them bothnp.dot(a_random_1,a_random_2.T)\n",
    "np.dot(a_random_1,a_random_2.T)"
   ]
  },
  {
   "cell_type": "markdown",
   "metadata": {},
   "source": [
    "Notice how performing a transpose allows the dot product to happen.\n",
    "\n",
    "Why is this?\n",
    "\n",
    "Checking out the documentation on [`np.dot()`](https://docs.scipy.org/doc/numpy/reference/generated/numpy.dot.html) may help, as well as reading [Math is Fun's guide on the dot product](https://www.mathsisfun.com/algebra/vectors-dot-product.html).\n",
    "\n",
    "Let's now compare arrays."
   ]
  },
  {
   "cell_type": "code",
   "execution_count": 3,
   "metadata": {},
   "outputs": [
    {
     "name": "stdout",
     "output_type": "stream",
     "text": [
      "[[8 8 6]\n",
      " [2 8 7]\n",
      " [2 1 5]]\n",
      "\n",
      "[[4 4 5]\n",
      " [7 3 6]\n",
      " [4 3 7]]\n"
     ]
    }
   ],
   "source": [
    "# Create two arrays of random integers between 0 & 10 of the same shape\n",
    "# and save them to variables\n",
    "np.random.seed(2)\n",
    "\n",
    "arr_3x3=np.random.randint(0,10,size=(3,3)) \n",
    "print(arr_3x3)\n",
    "arr_3_3_new=np.random.randint(0,10,size=(3,3))  \n",
    "print(\"\")\n",
    "print(arr_3_3_new)"
   ]
  },
  {
   "cell_type": "code",
   "execution_count": 166,
   "metadata": {},
   "outputs": [
    {
     "data": {
      "text/plain": [
       "array([[ True,  True,  True],\n",
       "       [False,  True,  True],\n",
       "       [False, False, False]])"
      ]
     },
     "execution_count": 166,
     "metadata": {},
     "output_type": "execute_result"
    }
   ],
   "source": [
    "# Compare the two arrays with '>'\n",
    "arr_3x3>arr_3_3_new"
   ]
  },
  {
   "cell_type": "markdown",
   "metadata": {},
   "source": [
    "What happens when you compare the arrays with `>`?"
   ]
  },
  {
   "cell_type": "code",
   "execution_count": 170,
   "metadata": {},
   "outputs": [
    {
     "data": {
      "text/plain": [
       "array([[ True,  True,  True],\n",
       "       [False,  True,  True],\n",
       "       [False, False, False]])"
      ]
     },
     "execution_count": 170,
     "metadata": {},
     "output_type": "execute_result"
    }
   ],
   "source": [
    "# Compare the two arrays with '>='\n",
    "arr_3x3>=arr_3_3_new"
   ]
  },
  {
   "cell_type": "code",
   "execution_count": 169,
   "metadata": {},
   "outputs": [
    {
     "name": "stdout",
     "output_type": "stream",
     "text": [
      "[[8 8 6]\n",
      " [2 8 7]\n",
      " [2 1 5]]\n"
     ]
    },
    {
     "data": {
      "text/plain": [
       "array([[ True,  True, False],\n",
       "       [False,  True, False],\n",
       "       [False, False, False]])"
      ]
     },
     "execution_count": 169,
     "metadata": {},
     "output_type": "execute_result"
    }
   ],
   "source": [
    "# Find which elements of the first array are greater than 7\n",
    "print(arr_3x3)\n",
    "arr_3x3>7"
   ]
  },
  {
   "cell_type": "code",
   "execution_count": 171,
   "metadata": {},
   "outputs": [
    {
     "data": {
      "text/plain": [
       "array([[False, False, False],\n",
       "       [False, False, False],\n",
       "       [False, False, False]])"
      ]
     },
     "execution_count": 171,
     "metadata": {},
     "output_type": "execute_result"
    }
   ],
   "source": [
    "# Which parts of each array are equal? (try using '==')\n",
    "arr_3x3==arr_3_3_new"
   ]
  },
  {
   "cell_type": "code",
   "execution_count": 174,
   "metadata": {},
   "outputs": [
    {
     "name": "stdout",
     "output_type": "stream",
     "text": [
      "original array before sorting\n",
      "[[8 8 6]\n",
      " [2 8 7]\n",
      " [2 1 5]]\n",
      "\n",
      "array after sorting\n"
     ]
    },
    {
     "data": {
      "text/plain": [
       "array([[6, 8, 8],\n",
       "       [2, 7, 8],\n",
       "       [1, 2, 5]])"
      ]
     },
     "execution_count": 174,
     "metadata": {},
     "output_type": "execute_result"
    }
   ],
   "source": [
    "# Sort one of the arrays you just created in ascending order\n",
    "print(\"original array before sorting\")\n",
    "print(arr_3x3)\n",
    "print(\"\")\n",
    "print(\"array after sorting\")\n",
    "np.sort(arr_3x3)"
   ]
  },
  {
   "cell_type": "code",
   "execution_count": 176,
   "metadata": {},
   "outputs": [
    {
     "name": "stdout",
     "output_type": "stream",
     "text": [
      "original array before indexed sorting\n",
      "[[8 8 6]\n",
      " [2 8 7]\n",
      " [2 1 5]]\n",
      "\n",
      "after index sorting\n"
     ]
    },
    {
     "data": {
      "text/plain": [
       "array([[2, 0, 1],\n",
       "       [0, 2, 1],\n",
       "       [1, 0, 2]], dtype=int64)"
      ]
     },
     "execution_count": 176,
     "metadata": {},
     "output_type": "execute_result"
    }
   ],
   "source": [
    "# Sort the indexes of one of the arrays you just created\n",
    "print(\"original array before indexed sorting\")\n",
    "print(arr_3x3)\n",
    "print(\"\")\n",
    "print(\"after index sorting\")\n",
    "np.argsort(arr_3x3)"
   ]
  },
  {
   "cell_type": "code",
   "execution_count": 5,
   "metadata": {},
   "outputs": [
    {
     "name": "stdout",
     "output_type": "stream",
     "text": [
      "[[8 8 6]\n",
      " [2 8 7]\n",
      " [2 1 5]]\n"
     ]
    },
    {
     "data": {
      "text/plain": [
       "0"
      ]
     },
     "execution_count": 5,
     "metadata": {},
     "output_type": "execute_result"
    }
   ],
   "source": [
    "# Find the index with the maximum value in one of the arrays you've created\n",
    "print(arr_3x3)\n",
    "np.argmax(arr_3x3)"
   ]
  },
  {
   "cell_type": "code",
   "execution_count": 18,
   "metadata": {},
   "outputs": [
    {
     "name": "stdout",
     "output_type": "stream",
     "text": [
      "[[1 5 2]\n",
      " [0 0 4]\n",
      " [6 3 1]]\n",
      "\n",
      "[[0 2 1]\n",
      " [0 1 2]\n",
      " [2 1 0]]\n",
      "\n",
      "[2 0 1]\n",
      "\n",
      "3\n"
     ]
    }
   ],
   "source": [
    "arr_new=np.random.randint(0,9,size=(3,3))\n",
    "print(arr_new)\n",
    "print()\n",
    "print(np.argsort(arr_new))\n",
    "print(\"\")\n",
    "print(np.argmax(arr_new,axis=0))\n",
    "print(\"\")\n",
    "print(np.argmin(arr_new))"
   ]
  },
  {
   "cell_type": "code",
   "execution_count": 6,
   "metadata": {},
   "outputs": [
    {
     "name": "stdout",
     "output_type": "stream",
     "text": [
      "[[[1 2 3]\n",
      "  [4 5 6]\n",
      "  [7 8 9]]]\n"
     ]
    },
    {
     "data": {
      "text/plain": [
       "0"
      ]
     },
     "execution_count": 6,
     "metadata": {},
     "output_type": "execute_result"
    }
   ],
   "source": [
    "# Find the index with the minimum value in one of the arrays you've created\n",
    "print(a3)\n",
    "np.argmin(a3)"
   ]
  },
  {
   "cell_type": "code",
   "execution_count": 13,
   "metadata": {},
   "outputs": [
    {
     "name": "stdout",
     "output_type": "stream",
     "text": [
      "[[[1 2 3]\n",
      "  [4 5 6]\n",
      "  [7 8 9]]]\n"
     ]
    },
    {
     "data": {
      "text/plain": [
       "array([[2, 2, 2]], dtype=int64)"
      ]
     },
     "execution_count": 13,
     "metadata": {},
     "output_type": "execute_result"
    }
   ],
   "source": [
    "# Find the indexes with the maximum values down the 1st axis (axis=1)\n",
    "# of one of the arrays you created\n",
    "print(a3)\n",
    "np.argmax(a3,axis=1)"
   ]
  },
  {
   "cell_type": "code",
   "execution_count": 16,
   "metadata": {},
   "outputs": [
    {
     "name": "stdout",
     "output_type": "stream",
     "text": [
      "[[ 9 12  8  6  1]\n",
      " [ 6 19 14  5  7]\n",
      " [15 19  2  6  3]\n",
      " [13 12 17  6 12]]\n"
     ]
    },
    {
     "data": {
      "text/plain": [
       "array([1, 0, 2, 1, 0], dtype=int64)"
      ]
     },
     "execution_count": 16,
     "metadata": {},
     "output_type": "execute_result"
    }
   ],
   "source": [
    "# Find the indexes with the minimum values across the 0th axis (axis=0)\n",
    "# of one of the arrays you created\n",
    "a4=np.random.randint(0,20,size=(4,5))\n",
    "print(a4)\n",
    "np.argmin(a4,axis=0)"
   ]
  },
  {
   "cell_type": "code",
   "execution_count": 23,
   "metadata": {},
   "outputs": [
    {
     "name": "stdout",
     "output_type": "stream",
     "text": [
      "[[-0.21706802 -0.11069605  0.5439582  -0.29673933  0.69675408]\n",
      " [ 0.05404728 -0.84408314  0.74820756  0.30623359  0.80136392]\n",
      " [ 0.9884962   1.01137769  0.76252192 -0.06984125  0.26233548]]\n"
     ]
    }
   ],
   "source": [
    "# Create an array of normally distributed random numbers\n",
    "\n",
    "\n",
    "print(np.random.randn(3,5))"
   ]
  },
  {
   "cell_type": "code",
   "execution_count": 35,
   "metadata": {},
   "outputs": [
    {
     "name": "stdout",
     "output_type": "stream",
     "text": [
      "[  1.  12.  23.  34.  45.  56.  67.  78.  89. 100.]\n"
     ]
    }
   ],
   "source": [
    "# Create an array with 10 evenly spaced numbers between 1 and 100\n",
    "\n",
    "a6=np.linspace(1,100,10)\n",
    "print(a6)"
   ]
  }
 ],
 "metadata": {
  "kernelspec": {
   "display_name": "Python 3",
   "language": "python",
   "name": "python3"
  },
  "language_info": {
   "codemirror_mode": {
    "name": "ipython",
    "version": 3
   },
   "file_extension": ".py",
   "mimetype": "text/x-python",
   "name": "python",
   "nbconvert_exporter": "python",
   "pygments_lexer": "ipython3",
   "version": "3.7.6"
  }
 },
 "nbformat": 4,
 "nbformat_minor": 2
}
